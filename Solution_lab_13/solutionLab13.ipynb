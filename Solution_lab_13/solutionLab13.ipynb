{
  "nbformat": 4,
  "nbformat_minor": 0,
  "metadata": {
    "colab": {
      "provenance": []
    },
    "kernelspec": {
      "name": "python3",
      "display_name": "Python 3"
    },
    "language_info": {
      "name": "python"
    }
  },
  "cells": [
    {
      "cell_type": "code",
      "execution_count": 1,
      "metadata": {
        "id": "Klm2Yu1SjQhY"
      },
      "outputs": [],
      "source": [
        "import numpy as np\n",
        "\n",
        "# Step function\n",
        "def step_function(x):\n",
        "    return 1 if x >= 0 else 0\n",
        "\n"
      ]
    },
    {
      "cell_type": "code",
      "source": [
        "# Train the perceptron\n",
        "def train_perceptron(X, y, learning_rate=0.1, epochs=10):\n",
        "    num_features = X.shape[1]  # Number of features (now 3)\n",
        "    weights = np.zeros(num_features + 1)  # Include bias\n",
        "\n",
        "    for epoch in range(epochs):\n",
        "        total_error = 0\n",
        "        for i in range(len(X)):\n",
        "            x_with_bias = np.insert(X[i], 0, 1)  # Add bias term\n",
        "            weighted_sum = np.dot(weights, x_with_bias)\n",
        "            y_pred = step_function(weighted_sum)\n",
        "            error = y[i] - y_pred\n",
        "            total_error += abs(error)\n",
        "            weights += learning_rate * error * x_with_bias\n",
        "\n",
        "        print(f\"Epoch {epoch+1}: Weights = {weights}, Error = {total_error}\")\n",
        "        if total_error == 0:\n",
        "            break\n",
        "\n",
        "    return weights\n",
        "\n",
        "# Predict outputs\n",
        "def predict(X, weights):\n",
        "    predictions = []\n",
        "    for i in range(len(X)):\n",
        "        x_with_bias = np.insert(X[i], 0, 1)\n",
        "        weighted_sum = np.dot(weights, x_with_bias)\n",
        "        y_pred = step_function(weighted_sum)\n",
        "        predictions.append(y_pred)\n",
        "    return predictions\n"
      ],
      "metadata": {
        "id": "cIqbmfZMjZDd"
      },
      "execution_count": 2,
      "outputs": []
    },
    {
      "cell_type": "code",
      "source": [
        "\n",
        "# 3-Input AND Gate dataset\n",
        "X = np.array([\n",
        "    [0, 0, 0],  # All 0s\n",
        "    [0, 0, 1],  # One 1\n",
        "    [0, 1, 0],\n",
        "    [0, 1, 1],\n",
        "    [1, 0, 0],\n",
        "    [1, 0, 1],\n",
        "    [1, 1, 0],\n",
        "    [1, 1, 1]   # All 1s\n",
        "])\n",
        "y = np.array([0, 0, 0, 0, 0, 0, 0, 1])  # Output: 1 only when all inputs are 1\n",
        "\n",
        "# Train the perceptron\n",
        "weights = train_perceptron(X, y)\n",
        "\n",
        "# Test predictions\n",
        "predictions = predict(X, weights)\n",
        "print(\"\\nResults:\")\n",
        "for i in range(len(X)):\n",
        "    print(f\"Input: {X[i]}, Predicted: {predictions[i]}, Actual: {y[i]}\")\n"
      ],
      "metadata": {
        "colab": {
          "base_uri": "https://localhost:8080/"
        },
        "id": "fyund1Tfjdt0",
        "outputId": "98eca660-820d-4a1a-f8aa-a115adea9994"
      },
      "execution_count": 3,
      "outputs": [
        {
          "output_type": "stream",
          "name": "stdout",
          "text": [
            "Epoch 1: Weights = [0.  0.1 0.1 0.1], Error = 2\n",
            "Epoch 2: Weights = [-0.2  0.1  0.1  0.1], Error = 4\n",
            "Epoch 3: Weights = [-0.2  0.1  0.1  0.1], Error = 0\n",
            "\n",
            "Results:\n",
            "Input: [0 0 0], Predicted: 0, Actual: 0\n",
            "Input: [0 0 1], Predicted: 0, Actual: 0\n",
            "Input: [0 1 0], Predicted: 0, Actual: 0\n",
            "Input: [0 1 1], Predicted: 0, Actual: 0\n",
            "Input: [1 0 0], Predicted: 0, Actual: 0\n",
            "Input: [1 0 1], Predicted: 0, Actual: 0\n",
            "Input: [1 1 0], Predicted: 0, Actual: 0\n",
            "Input: [1 1 1], Predicted: 1, Actual: 1\n"
          ]
        }
      ]
    }
  ]
}